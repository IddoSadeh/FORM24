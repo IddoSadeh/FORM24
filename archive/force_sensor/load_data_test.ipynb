{
 "cells": [
  {
   "cell_type": "code",
   "execution_count": null,
   "metadata": {},
   "outputs": [],
   "source": [
    "import pandas as pd\n",
    "import matplotlib.pyplot as plt"
   ]
  },
  {
   "cell_type": "code",
   "execution_count": null,
   "metadata": {},
   "outputs": [],
   "source": [
    "import pandas as pd\n",
    "\n",
    "# Path to the CSV file\n",
    "file_path = \"data/arduino_data_2024-11-24_11-58-08.csv\"  # Replace 'yourfilehere.csv' with your actual filename\n",
    "\n",
    "try:\n",
    "    # Load data\n",
    "    data = pd.read_csv(file_path)\n",
    "\n",
    "    # Remove the first row (assuming it's erroneous)\n",
    "    data = data.iloc[1:].reset_index(drop=True)\n",
    "\n",
    "    # Filter rows with valid comma-separated structure (exactly 2 commas for 3 elements)\n",
    "    data = data[data[\"Data\"].str.count(\",\") == 2]\n",
    "\n",
    "    # Split the \"Data\" column into three components: \"Time (ms)\", \"Data\", \"Voltage\"\n",
    "    data[[\"Time (ms)\", \"Data\", \"Voltage\"]] = data[\"Data\"].str.split(\",\", expand=True)\n",
    "\n",
    "    # Convert the new columns to appropriate numeric types\n",
    "    data[\"Time (ms)\"] = pd.to_numeric(data[\"Time (ms)\"], errors=\"coerce\")\n",
    "    data[\"Data (ADC)\"] = pd.to_numeric(data[\"Data\"], errors=\"coerce\")\n",
    "    data[\"Voltage\"] = pd.to_numeric(data[\"Voltage\"], errors=\"coerce\")\n",
    "\n",
    "    # Drop the \"Time (s)\" column\n",
    "    data = data.drop(columns=[\"Time (s)\"])\n",
    "    # Drop rows with NaN values (if any remain after conversion)\n",
    "    data.dropna(subset=[\"Time (ms)\", \"Data (ADC)\", \"Voltage\"], inplace=True)\n",
    "    columns_titles = [\"Data (ADC)\",\"Time (ms)\", \"Voltage\"]\n",
    "    data=data.reindex(columns=columns_titles)\n",
    "\n",
    "    # Display the cleaned dataset\n",
    "    print(\"First few rows of the cleaned dataset:\")\n",
    "    display(data.head())  # Use display() for better formatting in Jupyter\n",
    "\n",
    "\n",
    "\n",
    "except FileNotFoundError:\n",
    "    print(f\"File not found: {file_path}\")\n",
    "except pd.errors.EmptyDataError:\n",
    "    print(\"The file is empty. Please check your data file.\")\n",
    "except KeyError as e:\n",
    "    print(f\"Column not found in the CSV: {e}\")\n",
    "except ValueError as e:\n",
    "    print(f\"Error processing data: {e}\")\n"
   ]
  },
  {
   "cell_type": "code",
   "execution_count": null,
   "metadata": {},
   "outputs": [],
   "source": [
    "try:\n",
    "    # Plotting Voltage vs Time\n",
    "    plt.figure(figsize=(12, 6))\n",
    "\n",
    "    # Plot Voltage over Time\n",
    "    plt.plot(data[\"Time (ms)\"], data[\"Voltage\"], label=\"Voltage (V)\", color=\"red\", linestyle=\"-\")\n",
    "\n",
    "    # Adding titles and labels\n",
    "    plt.title(\"Voltage over Time\")\n",
    "    plt.xlabel(\"Time (ms)\")\n",
    "    plt.ylabel(\"Voltage (V)\")\n",
    "    plt.legend(loc=\"upper right\")\n",
    "    plt.grid(True)\n",
    "\n",
    "    # Show the plot\n",
    "    plt.show()\n",
    "\n",
    "except FileNotFoundError:\n",
    "    print(f\"File not found: {file_path}\")\n",
    "except pd.errors.EmptyDataError:\n",
    "    print(\"The file is empty. Please check your data file.\")\n",
    "except KeyError as e:\n",
    "    print(f\"Column not found in the CSV: {e}\")\n",
    "except ValueError as e:\n",
    "    print(f\"Error processing data: {e}\")\n"
   ]
  }
 ],
 "metadata": {
  "kernelspec": {
   "display_name": "Python 3",
   "language": "python",
   "name": "python3"
  },
  "language_info": {
   "codemirror_mode": {
    "name": "ipython",
    "version": 3
   },
   "file_extension": ".py",
   "mimetype": "text/x-python",
   "name": "python",
   "nbconvert_exporter": "python",
   "pygments_lexer": "ipython3",
   "version": "3.10.10"
  }
 },
 "nbformat": 4,
 "nbformat_minor": 2
}
