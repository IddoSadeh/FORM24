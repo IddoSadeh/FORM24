{
 "cells": [
  {
   "cell_type": "markdown",
   "metadata": {},
   "source": [
    "Start with loading the libraries"
   ]
  },
  {
   "cell_type": "code",
   "execution_count": null,
   "metadata": {},
   "outputs": [],
   "source": [
    "import pandas as pd\n",
    "import numpy as np\n",
    "import matplotlib.pyplot as plt\n",
    "from scipy.signal import butter, filtfilt, find_peaks\n",
    "from pykalman import KalmanFilter\n"
   ]
  },
  {
   "cell_type": "markdown",
   "metadata": {},
   "source": [
    "Read Data"
   ]
  },
  {
   "cell_type": "code",
   "execution_count": null,
   "metadata": {},
   "outputs": [],
   "source": [
    "\n",
    "data = pd.read_csv(\"../data/2024-11-25-1732560701581.csv\")\n",
    "data.head()\n"
   ]
  },
  {
   "cell_type": "markdown",
   "metadata": {},
   "source": [
    "First and last 800 ms of data need to be trimmed"
   ]
  },
  {
   "cell_type": "code",
   "execution_count": null,
   "metadata": {},
   "outputs": [],
   "source": [
    "trim_start = 800\n",
    "trim_end = 800\n",
    "\n",
    "\n",
    "data = data.iloc[trim_start:-trim_end]"
   ]
  },
  {
   "cell_type": "markdown",
   "metadata": {},
   "source": [
    "looking at data"
   ]
  },
  {
   "cell_type": "code",
   "execution_count": null,
   "metadata": {},
   "outputs": [],
   "source": [
    "data['time_s'] = data['time_ms'] / 1000\n",
    "\n",
    "for column in data.columns:\n",
    "    if column != 'time_ms' and column != 'time_s':\n",
    "        plt.figure()\n",
    "        plt.plot(data['time_s'], data[column])\n",
    "        plt.xlabel('Time (s)')\n",
    "        plt.ylabel(column)\n",
    "        plt.title(f'{column} vs Time')\n",
    "        plt.grid(True)\n",
    "        plt.show()"
   ]
  },
  {
   "cell_type": "markdown",
   "metadata": {},
   "source": [
    "Smooth data"
   ]
  },
  {
   "cell_type": "code",
   "execution_count": null,
   "metadata": {},
   "outputs": [],
   "source": [
    "\n",
    "# Smooth the columns using a rolling mean\n",
    "window_size = 50  # Adjust the window size as needed\n",
    "data_smoothed = data.copy()\n",
    "\n",
    "# Apply rolling mean to all columns except 'time_ms' and 'time_s'\n",
    "for column in data.columns:\n",
    "    if column != 'time_ms' and column != 'time_s':\n",
    "        data_smoothed[column] = data[column].rolling(window=window_size, center=True).mean()\n",
    "\n",
    "# Plot the smoothed data\n",
    "for column in data_smoothed.columns:\n",
    "    if column != 'time_ms' and column != 'time_s':\n",
    "        plt.figure()\n",
    "        plt.plot(data['time_s'], data_smoothed[column])\n",
    "        plt.xlabel('Time (s)')\n",
    "        plt.ylabel(column)\n",
    "        plt.title(f'{column} (Smoothed) vs Time')\n",
    "        plt.grid(True)\n",
    "        plt.show()\n"
   ]
  },
  {
   "cell_type": "markdown",
   "metadata": {},
   "source": [
    "**Pre-processing**\n",
    "\n",
    "Trimming data to get rid of artifacts from the begining and end of data"
   ]
  },
  {
   "cell_type": "code",
   "execution_count": null,
   "metadata": {},
   "outputs": [],
   "source": [
    "\n",
    "trim_start = 800\n",
    "trim_end = 800\n",
    "\n",
    "\n",
    "trimmed_data = data.iloc[trim_start:-trim_end]\n",
    "\n",
    "\n",
    "plt.figure(figsize=(10, 6))\n",
    "for axis in ['x', 'y', 'z']:\n",
    "    plt.plot(trimmed_data['time_ms'], trimmed_data[f'acc_{axis}_mg'], label=f'Acc {axis.upper()}')\n",
    "\n",
    "plt.title('Trimmed Accelerometer Data')\n",
    "plt.xlabel('Time (ms)')\n",
    "plt.ylabel('Acceleration (mg)')\n",
    "plt.legend()\n",
    "plt.grid()\n",
    "plt.show()\n",
    "\n",
    "\n"
   ]
  },
  {
   "cell_type": "markdown",
   "metadata": {},
   "source": [
    " Threshold-Based Event Detection"
   ]
  },
  {
   "cell_type": "code",
   "execution_count": null,
   "metadata": {},
   "outputs": [],
   "source": [
    "\n",
    "\n",
    "trimmed_data['acc_magnitude'] = np.sqrt(\n",
    "    trimmed_data['acc_x_mg']**2 +\n",
    "    trimmed_data['acc_y_mg']**2 +\n",
    "    trimmed_data['acc_z_mg']**2\n",
    ")\n",
    "\n",
    "\n",
    "peak_threshold = 15 \n",
    "peaks, _ = find_peaks(trimmed_data['acc_magnitude'], height=peak_threshold)\n",
    "\n",
    "\n",
    "plt.figure(figsize=(10, 6))\n",
    "plt.plot(trimmed_data['time_ms'], trimmed_data['acc_magnitude'], label='Acceleration Magnitude')\n",
    "plt.plot(trimmed_data['time_ms'].iloc[peaks], trimmed_data['acc_magnitude'].iloc[peaks], 'ro', label='Peaks')\n",
    "plt.title('Acceleration Magnitude with Detected Peaks')\n",
    "plt.xlabel('Time (ms)')\n",
    "plt.ylabel('Acceleration Magnitude (mg)')\n",
    "plt.legend()\n",
    "plt.grid()\n",
    "plt.show()\n",
    "\n"
   ]
  },
  {
   "cell_type": "markdown",
   "metadata": {},
   "source": [
    "Angular Velocity Analysis"
   ]
  },
  {
   "cell_type": "code",
   "execution_count": null,
   "metadata": {},
   "outputs": [],
   "source": [
    "trimmed_data['gyro_magnitude'] = np.sqrt(\n",
    "    trimmed_data['gyro_x_mdps']**2 +\n",
    "    trimmed_data['gyro_y_mdps']**2 +\n",
    "    trimmed_data['gyro_z_mdps']**2\n",
    ")\n",
    "\n",
    "\n",
    "gyro_peak_threshold = 4\n",
    "gyro_peaks, _ = find_peaks(trimmed_data['gyro_magnitude'], height=gyro_peak_threshold)\n",
    "\n",
    "\n",
    "plt.figure(figsize=(10, 6))\n",
    "plt.plot(trimmed_data['time_ms'], trimmed_data['gyro_magnitude'], label='Angular Velocity Magnitude')\n",
    "plt.plot(trimmed_data['time_ms'].iloc[gyro_peaks], trimmed_data['gyro_magnitude'].iloc[gyro_peaks], 'ro', label='Peaks')\n",
    "plt.title('Angular Velocity Magnitude with Detected Peaks')\n",
    "plt.xlabel('Time (ms)')\n",
    "plt.ylabel('Angular Velocity Magnitude (mdps)')\n",
    "plt.legend()\n",
    "plt.grid()\n",
    "plt.show()\n"
   ]
  },
  {
   "cell_type": "markdown",
   "metadata": {},
   "source": [
    "frequency analysis"
   ]
  },
  {
   "cell_type": "code",
   "execution_count": null,
   "metadata": {},
   "outputs": [],
   "source": [
    "\n",
    "# Define constants\n",
    "g = 9.81  # Gravity in m/s^2\n",
    "\n",
    "# Define the low-pass filter\n",
    "def butter_lowpass_filter(data, cutoff, fs, order=2):\n",
    "    nyquist = 0.5 * fs\n",
    "    normal_cutoff = cutoff / nyquist\n",
    "    b, a = butter(order, normal_cutoff, btype='low', analog=False)\n",
    "    if len(data) < len(b) + len(a):\n",
    "        raise ValueError(\"Data length is too short for the filter order.\")\n",
    "    return filtfilt(b, a, data)\n",
    "\n",
    "# Load and preprocess data\n",
    "imu_data = data\n",
    "imu_data = imu_data.sort_values(by='time_ms').drop_duplicates(subset=['time_ms'])\n",
    "time_seconds = imu_data['time_ms'].values / 1000\n",
    "\n",
    "# Compute sampling frequency\n",
    "time_intervals = np.diff(time_seconds)\n",
    "valid_intervals = time_intervals[time_intervals > 0]\n",
    "sampling_interval = valid_intervals.mean()\n",
    "fs = 1 / sampling_interval\n",
    "\n",
    "# Apply low-pass filter\n",
    "cutoff = min(5, 0.4 * fs)\n",
    "for axis in ['x', 'y', 'z']:\n",
    "    imu_data[f'filtered_acc_{axis}'] = butter_lowpass_filter(imu_data[f'acc_{axis}_mg'], cutoff, fs)\n",
    "    imu_data[f'filtered_gyro_{axis}'] = butter_lowpass_filter(imu_data[f'gyro_{axis}_mdps'], cutoff, fs)\n",
    "\n",
    "# Convert accelerometer data to m/s^2 and gyroscope data to radians\n",
    "for axis in ['x', 'y', 'z']:\n",
    "    imu_data[f'filtered_acc_{axis}'] *= g / 1000\n",
    "    imu_data[f'filtered_gyro_{axis}'] = np.deg2rad(imu_data[f'filtered_gyro_{axis}'])\n",
    "\n",
    "# Initialize position and velocity arrays\n",
    "position = np.zeros((len(imu_data), 3))\n",
    "velocity = np.zeros((len(imu_data), 3))\n",
    "\n",
    "# Compute velocity and position\n",
    "for i in range(1, len(imu_data)):\n",
    "    dt = time_seconds[i] - time_seconds[i - 1]\n",
    "    for j, axis in enumerate(['x', 'y', 'z']):        \n",
    "        acc = imu_data[f'filtered_acc_{axis}'].iloc[i]\n",
    "        if axis == 'z':\n",
    "            acc -= g  # Remove gravity\n",
    "        velocity[i, j] = velocity[i - 1, j] + acc * dt\n",
    "        position[i, j] = position[i - 1, j] + velocity[i, j] * dt\n",
    "\n",
    "# Plot the 3D path\n",
    "fig = plt.figure(figsize=(10, 8))\n",
    "ax = fig.add_subplot(111, projection='3d')\n",
    "ax.plot(position[:, 0], position[:, 1], position[:, 2], label='IMU Path', color='blue')\n",
    "ax.set_title('IMU Position in 3D Space')\n",
    "ax.set_xlabel('X Position (m)')\n",
    "ax.set_ylabel('Y Position (m)')\n",
    "ax.set_zlabel('Z Position (m)')\n",
    "ax.legend()\n",
    "plt.show()\n"
   ]
  }
 ],
 "metadata": {
  "kernelspec": {
   "display_name": "base",
   "language": "python",
   "name": "python3"
  },
  "language_info": {
   "codemirror_mode": {
    "name": "ipython",
    "version": 3
   },
   "file_extension": ".py",
   "mimetype": "text/x-python",
   "name": "python",
   "nbconvert_exporter": "python",
   "pygments_lexer": "ipython3",
   "version": "3.9.12"
  }
 },
 "nbformat": 4,
 "nbformat_minor": 2
}
